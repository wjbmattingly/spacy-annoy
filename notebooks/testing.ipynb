{
 "cells": [
  {
   "cell_type": "code",
   "execution_count": 2,
   "metadata": {},
   "outputs": [],
   "source": [
    "import spacy\n",
    "import annoy"
   ]
  },
  {
   "cell_type": "code",
   "execution_count": 36,
   "metadata": {},
   "outputs": [],
   "source": [
    "text = \"\"\"\n",
    "The New York Jets won the game.\n",
    "Cats are the best animals in the world.\n",
    "Dogs are amazing!\n",
    "The French baseball team is doing great.\n",
    "\"\"\"\n",
    "\n",
    "nlp = spacy.load(\"en_core_web_lg\")"
   ]
  },
  {
   "cell_type": "code",
   "execution_count": 37,
   "metadata": {},
   "outputs": [],
   "source": [
    "doc = nlp(text)"
   ]
  },
  {
   "cell_type": "code",
   "execution_count": 38,
   "metadata": {},
   "outputs": [
    {
     "data": {
      "text/plain": [
       "300"
      ]
     },
     "execution_count": 38,
     "metadata": {},
     "output_type": "execute_result"
    }
   ],
   "source": [
    "doc.vector.shape[0]"
   ]
  },
  {
   "cell_type": "code",
   "execution_count": 39,
   "metadata": {},
   "outputs": [
    {
     "data": {
      "text/plain": [
       "True"
      ]
     },
     "execution_count": 39,
     "metadata": {},
     "output_type": "execute_result"
    }
   ],
   "source": [
    "metric = \"euclidean\"\n",
    "trees = 10\n",
    "annoy_index = annoy.AnnoyIndex(doc.vector.shape[0], metric)\n",
    "for i, sent in enumerate(doc.sents):\n",
    "    annoy_index.add_item(i, sent.vector)\n",
    "annoy_index.build(trees)"
   ]
  },
  {
   "cell_type": "code",
   "execution_count": 52,
   "metadata": {},
   "outputs": [
    {
     "name": "stdout",
     "output_type": "stream",
     "text": [
      "([2, 1], [21.68662452697754, 27.670412063598633])\n",
      "2 21.68662452697754\n",
      "Dogs are amazing!\n",
      "\n",
      "1 27.670412063598633\n",
      "Cats are the best animals in the world.\n",
      "\n"
     ]
    }
   ],
   "source": [
    "res = annoy_index.get_nns_by_vector(nlp(\"Dogs are animals.\").vector,\n",
    "                                    2,\n",
    "                                    include_distances=True)\n",
    "print(res)\n",
    "for idx, distance in zip(res[0], res[1]):\n",
    "    print(idx, distance)\n",
    "    for sent_idx, sent in enumerate(doc.sents):\n",
    "        if sent_idx == idx:\n",
    "            print(sent.text)"
   ]
  },
  {
   "cell_type": "code",
   "execution_count": null,
   "metadata": {},
   "outputs": [],
   "source": []
  },
  {
   "cell_type": "code",
   "execution_count": null,
   "metadata": {},
   "outputs": [],
   "source": []
  },
  {
   "cell_type": "code",
   "execution_count": null,
   "metadata": {},
   "outputs": [],
   "source": []
  }
 ],
 "metadata": {
  "kernelspec": {
   "display_name": "holocaust",
   "language": "python",
   "name": "python3"
  },
  "language_info": {
   "codemirror_mode": {
    "name": "ipython",
    "version": 3
   },
   "file_extension": ".py",
   "mimetype": "text/x-python",
   "name": "python",
   "nbconvert_exporter": "python",
   "pygments_lexer": "ipython3",
   "version": "3.10.13"
  }
 },
 "nbformat": 4,
 "nbformat_minor": 2
}
